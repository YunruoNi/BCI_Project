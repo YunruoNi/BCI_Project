{
 "cells": [
  {
   "cell_type": "code",
   "execution_count": 1,
   "metadata": {},
   "outputs": [],
   "source": [
    "from util import *\n",
    "from sklearn.svm import SVC\n",
    "from sklearn.neural_network import MLPClassifier\n",
    "from sklearn.preprocessing import StandardScaler\n",
    "import pandas as pd\n",
    "import matplotlib.pyplot as plt\n",
    "from tqdm import tqdm"
   ]
  },
  {
   "cell_type": "code",
   "execution_count": 114,
   "metadata": {},
   "outputs": [],
   "source": [
    "def run_single_time_window(monkey, event_want, offset, time_window, spatial_step=3):\n",
    "    spatial_xid=[]\n",
    "    spatial_yid=[]\n",
    "    acc_ls=[]\n",
    "    time_id=[]\n",
    "    all_feat, labels = get_all_feat_and_labels(monkey, event_want, offset, time_window)\n",
    "    labels = labels.view('<U2')[1::2]\n",
    "    for i in range (1, 10-spatial_step+2):\n",
    "        for j in range (1, 10-spatial_step+2): \n",
    "            elecs = get_electrodes(monkey, i, j, spatial_step)\n",
    "            data = []\n",
    "            for ch in elecs:\n",
    "                if ch == -1: continue\n",
    "                data.append(all_feat[ch]['st_feat'])\n",
    "            if monkey == 'N':\n",
    "                for ch in elecs:\n",
    "                    if ch == -1: continue\n",
    "                    data.append(all_feat[ch]['lfp_feat'])\n",
    "            data = np.concatenate(data, axis=1)\n",
    "            train_num=int(0.8*data.shape[0])\n",
    "\n",
    "            X_train, y_train, X_test, y_test = data[:train_num], labels[:train_num], data[train_num:], labels[train_num:]\n",
    "            # Normalize data\n",
    "            scaler = StandardScaler()  # normalization: zero mean, unit variance\n",
    "            scaler.fit(X_train)  # scaling factor determined from the training set\n",
    "\n",
    "            X_train = scaler.transform(X_train)\n",
    "            X_test = scaler.transform(X_test)\n",
    "            #clf = MLPClassifier(hidden_layer_sizes=(50), learning_rate_init=0.01, max_iter=500, verbose=0)\n",
    "            clf = SVC(kernel='sigmoid', C=1)\n",
    "            clf.fit(X_train, y_train)\n",
    "\n",
    "            accuracy = (clf.predict(X_test) == y_test).mean()\n",
    "            spatial_xid.append(i)\n",
    "            spatial_yid.append(j)\n",
    "            acc_ls.append(accuracy)\n",
    "            time_id.append(offset)\n",
    "    return pd.DataFrame(list(zip(spatial_xid, spatial_yid, time_id, acc_ls)), columns = ['X', 'Y', 'Time Stamp', 'Accuracy'])"
   ]
  },
  {
   "cell_type": "code",
   "execution_count": 115,
   "metadata": {},
   "outputs": [
    {
     "name": "stderr",
     "output_type": "stream",
     "text": [
      "100%|██████████| 16/16 [00:08<00:00,  1.79it/s]\n"
     ]
    }
   ],
   "source": [
    "dfs = []\n",
    "for t in tqdm(range(0, 16)):\n",
    "    dfs.append(run_single_time_window('L', 'SR', -0.8+0.1*t, 0.1, 3))"
   ]
  },
  {
   "cell_type": "code",
   "execution_count": 117,
   "metadata": {
    "tags": []
   },
   "outputs": [],
   "source": [
    "df = pd.concat(dfs).reset_index()"
   ]
  },
  {
   "cell_type": "code",
   "execution_count": 146,
   "metadata": {},
   "outputs": [],
   "source": [
    "df2 = df.loc[df['Time Stamp'] == -0.8+0.1*13]"
   ]
  },
  {
   "cell_type": "code",
   "execution_count": 147,
   "metadata": {
    "tags": []
   },
   "outputs": [
    {
     "data": {
      "image/png": "[encoded data removed]",
      "text/plain": [
       "<Figure size 432x288 with 2 Axes>"
      ]
     },
     "metadata": {
      "needs_background": "light"
     },
     "output_type": "display_data"
    }
   ],
   "source": [
    "accs = np.zeros((df2['X'].max(), df2['Y'].max()))\n",
    "accs[df2['X']-1, df2['Y']-1] = df2['Accuracy']\n",
    "plot_heatmap(accs, vmin=0.5)"
   ]
  },
  {
   "cell_type": "code",
   "execution_count": 98,
   "metadata": {},
   "outputs": [
    {
     "data": {
      "text/plain": [
       "<matplotlib.lines.Line2D at 0x7f01c4244490>"
      ]
     },
     "execution_count": 98,
     "metadata": {},
     "output_type": "execute_result"
    },
    {
     "data": {
      "image/png": "[encoded data removed]",
      "text/plain": [
       "<Figure size 432x288 with 1 Axes>"
      ]
     },
     "metadata": {
      "needs_background": "light"
     },
     "output_type": "display_data"
    }
   ],
   "source": [
    "plt.plot(df2['Time Stamp'], df2['Accuracy'])\n",
    "plt.axhline(0.5, linestyle='--', color='r')"
   ]
  },
  {
   "cell_type": "code",
   "execution_count": 80,
   "metadata": {},
   "outputs": [
    {
     "data": {
      "image/png": "[encoded data removed]",
      "text/plain": [
       "<Figure size 432x288 with 2 Axes>"
      ]
     },
     "metadata": {
      "needs_background": "light"
     },
     "output_type": "display_data"
    }
   ],
   "source": [
    "accs = run_single_time_window('N', 'GO-ON', 0, 0.5, 3) # MLP"
   ]
  },
  {
   "cell_type": "code",
   "execution_count": 88,
   "metadata": {},
   "outputs": [
    {
     "data": {
      "text/plain": [
       "['11',\n",
       " '12',\n",
       " '13',\n",
       " '14',\n",
       " '15',\n",
       " '16',\n",
       " '21',\n",
       " '22',\n",
       " '23',\n",
       " '24',\n",
       " '25',\n",
       " '26',\n",
       " '31',\n",
       " '32',\n",
       " '33',\n",
       " '34',\n",
       " '35',\n",
       " '36',\n",
       " '41',\n",
       " '42',\n",
       " '43',\n",
       " '44',\n",
       " '45',\n",
       " '46',\n",
       " '51',\n",
       " '52',\n",
       " '53',\n",
       " '54',\n",
       " '55',\n",
       " '56',\n",
       " '61',\n",
       " '62',\n",
       " '63',\n",
       " '64',\n",
       " '65',\n",
       " '66']"
      ]
     },
     "execution_count": 88,
     "metadata": {},
     "output_type": "execute_result"
    }
   ],
   "source": [
    "spatial_id"
   ]
  },
  {
   "cell_type": "code",
   "execution_count": 82,
   "metadata": {},
   "outputs": [
    {
     "data": {
      "image/png": "[encoded data removed]",
      "text/plain": [
       "<Figure size 432x288 with 2 Axes>"
      ]
     },
     "metadata": {
      "needs_background": "light"
     },
     "output_type": "display_data"
    }
   ],
   "source": [
    "accs = run_single_time_window('N', 'GO-ON', 0, 0.5, 3)#SVM IGMOID"
   ]
  },
  {
   "cell_type": "code",
   "execution_count": 68,
   "metadata": {},
   "outputs": [
    {
     "data": {
      "image/png": "[encoded data removed]",
      "text/plain": [
       "<Figure size 432x288 with 2 Axes>"
      ]
     },
     "metadata": {
      "needs_background": "light"
     },
     "output_type": "display_data"
    }
   ],
   "source": [
    "accs = run_single_time_window('N', 'GO-ON', 0, 0.5, 3)"
   ]
  },
  {
   "cell_type": "code",
   "execution_count": 69,
   "metadata": {},
   "outputs": [
    {
     "data": {
      "image/png": "[encoded data removed]",
      "text/plain": [
       "<Figure size 432x288 with 2 Axes>"
      ]
     },
     "metadata": {
      "needs_background": "light"
     },
     "output_type": "display_data"
    }
   ],
   "source": [
    "accs = run_single_time_window('L', 'GO-ON', 0, 0.5, 3)"
   ]
  }
 ],
 "metadata": {
  "kernelspec": {
   "display_name": "Python 3",
   "language": "python",
   "name": "python3"
  },
  "language_info": {
   "codemirror_mode": {
    "name": "ipython",
    "version": 3
   },
   "file_extension": ".py",
   "mimetype": "text/x-python",
   "name": "python",
   "nbconvert_exporter": "python",
   "pygments_lexer": "ipython3",
   "version": "3.8.8"
  }
 },
 "nbformat": 4,
 "nbformat_minor": 4
}
