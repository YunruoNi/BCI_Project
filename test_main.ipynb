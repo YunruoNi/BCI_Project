{
 "cells": [
  {
   "cell_type": "code",
   "execution_count": 1,
   "metadata": {},
   "outputs": [],
   "source": [
    "from util import *\n",
    "from sklearn.svm import SVC\n",
    "from sklearn.neural_network import MLPClassifier\n",
    "from sklearn.preprocessing import StandardScaler\n",
    "import pandas as pd\n",
    "import matplotlib.pyplot as plt"
   ]
  },
  {
   "cell_type": "code",
   "execution_count": 2,
   "metadata": {},
   "outputs": [],
   "source": [
    "def run_single_time_window(monkey, event_want, offset, time_window, spatial_step=3):\n",
    "    accs = np.zeros((10-spatial_step+1, 10-spatial_step+1))\n",
    "    all_feat, labels = get_all_feat_and_labels(monkey, event_want, offset, time_window)\n",
    "    for i in range(1, 10-spatial_step+2):\n",
    "        for j in range(1, 10-spatial_step+2): \n",
    "            elecs = get_electrodes(monkey, i, j, spatial_step)\n",
    "            data = []\n",
    "            for ch in elecs:\n",
    "                if ch == -1: continue\n",
    "                data.append(all_feat[ch]['st_feat'][:,None])\n",
    "            if monkey == 'N':\n",
    "                for ch in elecs:\n",
    "                    if ch == -1: continue\n",
    "                    data.append(all_feat[ch]['lfp_feat'])\n",
    "            data = np.concatenate(data, axis=1)\n",
    "            train_num=int(0.8*data.shape[0])\n",
    "\n",
    "            X_train, y_train, X_test, y_test = data[:train_num], labels[:train_num], data[train_num:], labels[train_num:]\n",
    "            # Normalize data\n",
    "            scaler = StandardScaler()  # normalization: zero mean, unit variance\n",
    "            scaler.fit(X_train)  # scaling factor determined from the training set\n",
    "\n",
    "            X_train = scaler.transform(X_train)\n",
    "            X_test = scaler.transform(X_test)\n",
    "#             clf = MLPClassifier(hidden_layer_sizes=(30), learning_rate_init=0.05, max_iter=500, verbose=0)\n",
    "            clf = SVC(kernel='sigmoid', C=1)\n",
    "            clf.fit(X_train, y_train)\n",
    "\n",
    "            accuracy = (clf.predict(X_test) == y_test).mean()\n",
    "            accs[i-1, j-1] = accuracy\n",
    "    \n",
    "    rows,cols = accs.shape\n",
    "\n",
    "    plt.imshow(accs, interpolation='nearest', \n",
    "                     extent=[0.5, 0.5+cols, 0.5, 0.5+rows],\n",
    "                     cmap='bwr', vmin=0.25, vmax=1)\n",
    "    plt.colorbar()\n",
    "    plt.axis('off')\n",
    "    plt.show()\n",
    "    return accs\n",
    "            \n"
   ]
  },
  {
   "cell_type": "code",
   "execution_count": 3,
   "metadata": {},
   "outputs": [
    {
     "ename": "ValueError",
     "evalue": "need at least one array to stack",
     "output_type": "error",
     "traceback": [
      "\u001b[0;31m---------------------------------------------------------------------------\u001b[0m",
      "\u001b[0;31mValueError\u001b[0m                                Traceback (most recent call last)",
      "\u001b[0;32m<ipython-input-3-381752111256>\u001b[0m in \u001b[0;36m<module>\u001b[0;34m\u001b[0m\n\u001b[0;32m----> 1\u001b[0;31m \u001b[0maccs\u001b[0m \u001b[0;34m=\u001b[0m \u001b[0mrun_single_time_window\u001b[0m\u001b[0;34m(\u001b[0m\u001b[0;34m'N'\u001b[0m\u001b[0;34m,\u001b[0m \u001b[0;34m'SR'\u001b[0m\u001b[0;34m,\u001b[0m \u001b[0;34m-\u001b[0m\u001b[0;36m0.2\u001b[0m\u001b[0;34m,\u001b[0m \u001b[0;36m0.2\u001b[0m\u001b[0;34m,\u001b[0m \u001b[0;36m2\u001b[0m\u001b[0;34m)\u001b[0m\u001b[0;34m\u001b[0m\u001b[0;34m\u001b[0m\u001b[0m\n\u001b[0m",
      "\u001b[0;32m<ipython-input-2-c406ba5abea9>\u001b[0m in \u001b[0;36mrun_single_time_window\u001b[0;34m(monkey, event_want, offset, time_window, spatial_step)\u001b[0m\n\u001b[1;32m      1\u001b[0m \u001b[0;32mdef\u001b[0m \u001b[0mrun_single_time_window\u001b[0m\u001b[0;34m(\u001b[0m\u001b[0mmonkey\u001b[0m\u001b[0;34m,\u001b[0m \u001b[0mevent_want\u001b[0m\u001b[0;34m,\u001b[0m \u001b[0moffset\u001b[0m\u001b[0;34m,\u001b[0m \u001b[0mtime_window\u001b[0m\u001b[0;34m,\u001b[0m \u001b[0mspatial_step\u001b[0m\u001b[0;34m=\u001b[0m\u001b[0;36m3\u001b[0m\u001b[0;34m)\u001b[0m\u001b[0;34m:\u001b[0m\u001b[0;34m\u001b[0m\u001b[0;34m\u001b[0m\u001b[0m\n\u001b[1;32m      2\u001b[0m     \u001b[0maccs\u001b[0m \u001b[0;34m=\u001b[0m \u001b[0mnp\u001b[0m\u001b[0;34m.\u001b[0m\u001b[0mzeros\u001b[0m\u001b[0;34m(\u001b[0m\u001b[0;34m(\u001b[0m\u001b[0;36m10\u001b[0m\u001b[0;34m-\u001b[0m\u001b[0mspatial_step\u001b[0m\u001b[0;34m+\u001b[0m\u001b[0;36m1\u001b[0m\u001b[0;34m,\u001b[0m \u001b[0;36m10\u001b[0m\u001b[0;34m-\u001b[0m\u001b[0mspatial_step\u001b[0m\u001b[0;34m+\u001b[0m\u001b[0;36m1\u001b[0m\u001b[0;34m)\u001b[0m\u001b[0;34m)\u001b[0m\u001b[0;34m\u001b[0m\u001b[0;34m\u001b[0m\u001b[0m\n\u001b[0;32m----> 3\u001b[0;31m     \u001b[0mall_feat\u001b[0m\u001b[0;34m,\u001b[0m \u001b[0mlabels\u001b[0m \u001b[0;34m=\u001b[0m \u001b[0mget_all_feat_and_labels\u001b[0m\u001b[0;34m(\u001b[0m\u001b[0mmonkey\u001b[0m\u001b[0;34m,\u001b[0m \u001b[0mevent_want\u001b[0m\u001b[0;34m,\u001b[0m \u001b[0moffset\u001b[0m\u001b[0;34m,\u001b[0m \u001b[0mtime_window\u001b[0m\u001b[0;34m)\u001b[0m\u001b[0;34m\u001b[0m\u001b[0;34m\u001b[0m\u001b[0m\n\u001b[0m\u001b[1;32m      4\u001b[0m     \u001b[0;32mfor\u001b[0m \u001b[0mi\u001b[0m \u001b[0;32min\u001b[0m \u001b[0mrange\u001b[0m\u001b[0;34m(\u001b[0m\u001b[0;36m1\u001b[0m\u001b[0;34m,\u001b[0m \u001b[0;36m10\u001b[0m\u001b[0;34m-\u001b[0m\u001b[0mspatial_step\u001b[0m\u001b[0;34m+\u001b[0m\u001b[0;36m2\u001b[0m\u001b[0;34m)\u001b[0m\u001b[0;34m:\u001b[0m\u001b[0;34m\u001b[0m\u001b[0;34m\u001b[0m\u001b[0m\n\u001b[1;32m      5\u001b[0m         \u001b[0;32mfor\u001b[0m \u001b[0mj\u001b[0m \u001b[0;32min\u001b[0m \u001b[0mrange\u001b[0m\u001b[0;34m(\u001b[0m\u001b[0;36m1\u001b[0m\u001b[0;34m,\u001b[0m \u001b[0;36m10\u001b[0m\u001b[0;34m-\u001b[0m\u001b[0mspatial_step\u001b[0m\u001b[0;34m+\u001b[0m\u001b[0;36m2\u001b[0m\u001b[0;34m)\u001b[0m\u001b[0;34m:\u001b[0m\u001b[0;34m\u001b[0m\u001b[0;34m\u001b[0m\u001b[0m\n",
      "\u001b[0;32m~/proj/BCI_Project/util.py\u001b[0m in \u001b[0;36mget_all_feat_and_labels\u001b[0;34m(monkey, event_want, offset, window_time)\u001b[0m\n\u001b[1;32m     89\u001b[0m             \u001b[0mst_feat\u001b[0m\u001b[0;34m.\u001b[0m\u001b[0mappend\u001b[0m\u001b[0;34m(\u001b[0m\u001b[0mget_st_feat\u001b[0m\u001b[0;34m(\u001b[0m\u001b[0mmonkey\u001b[0m\u001b[0;34m,\u001b[0m \u001b[0mch\u001b[0m\u001b[0;34m,\u001b[0m \u001b[0mstart_time\u001b[0m\u001b[0;34m,\u001b[0m \u001b[0mwindow_time\u001b[0m\u001b[0;34m)\u001b[0m\u001b[0;34m)\u001b[0m\u001b[0;34m\u001b[0m\u001b[0;34m\u001b[0m\u001b[0m\n\u001b[1;32m     90\u001b[0m             \u001b[0;32mif\u001b[0m \u001b[0mmonkey\u001b[0m \u001b[0;34m==\u001b[0m \u001b[0;34m'N'\u001b[0m\u001b[0;34m:\u001b[0m \u001b[0mlfp_feat\u001b[0m\u001b[0;34m.\u001b[0m\u001b[0mappend\u001b[0m\u001b[0;34m(\u001b[0m\u001b[0mget_lfp_feat\u001b[0m\u001b[0;34m(\u001b[0m\u001b[0mmonkey\u001b[0m\u001b[0;34m,\u001b[0m \u001b[0mch\u001b[0m\u001b[0;34m,\u001b[0m \u001b[0mstart_time\u001b[0m\u001b[0;34m,\u001b[0m \u001b[0mwindow_time\u001b[0m\u001b[0;34m)\u001b[0m\u001b[0;34m)\u001b[0m\u001b[0;34m\u001b[0m\u001b[0;34m\u001b[0m\u001b[0m\n\u001b[0;32m---> 91\u001b[0;31m         \u001b[0mall_feat\u001b[0m\u001b[0;34m[\u001b[0m\u001b[0mch\u001b[0m\u001b[0;34m]\u001b[0m \u001b[0;34m=\u001b[0m \u001b[0;34m{\u001b[0m\u001b[0;34m'st_feat'\u001b[0m\u001b[0;34m:\u001b[0m \u001b[0mnp\u001b[0m\u001b[0;34m.\u001b[0m\u001b[0mstack\u001b[0m\u001b[0;34m(\u001b[0m\u001b[0mst_feat\u001b[0m\u001b[0;34m)\u001b[0m\u001b[0;34m}\u001b[0m\u001b[0;34m\u001b[0m\u001b[0;34m\u001b[0m\u001b[0m\n\u001b[0m\u001b[1;32m     92\u001b[0m         \u001b[0;32mif\u001b[0m \u001b[0mmonkey\u001b[0m \u001b[0;34m==\u001b[0m \u001b[0;34m'N'\u001b[0m\u001b[0;34m:\u001b[0m \u001b[0mall_feat\u001b[0m\u001b[0;34m[\u001b[0m\u001b[0mch\u001b[0m\u001b[0;34m]\u001b[0m\u001b[0;34m[\u001b[0m\u001b[0;34m'lfp_feat'\u001b[0m\u001b[0;34m]\u001b[0m \u001b[0;34m=\u001b[0m \u001b[0mnp\u001b[0m\u001b[0;34m.\u001b[0m\u001b[0mstack\u001b[0m\u001b[0;34m(\u001b[0m\u001b[0mlfp_feat\u001b[0m\u001b[0;34m)\u001b[0m\u001b[0;34m\u001b[0m\u001b[0;34m\u001b[0m\u001b[0m\n\u001b[1;32m     93\u001b[0m     \u001b[0mlabels\u001b[0m \u001b[0;34m=\u001b[0m \u001b[0mnp\u001b[0m\u001b[0;34m.\u001b[0m\u001b[0mstack\u001b[0m\u001b[0;34m(\u001b[0m\u001b[0;34m[\u001b[0m\u001b[0mtrial\u001b[0m\u001b[0;34m[\u001b[0m\u001b[0;36m1\u001b[0m\u001b[0;34m]\u001b[0m \u001b[0;32mfor\u001b[0m \u001b[0mtrial\u001b[0m \u001b[0;32min\u001b[0m \u001b[0mtrials\u001b[0m\u001b[0;34m]\u001b[0m\u001b[0;34m)\u001b[0m\u001b[0;34m\u001b[0m\u001b[0;34m\u001b[0m\u001b[0m\n",
      "\u001b[0;32m<__array_function__ internals>\u001b[0m in \u001b[0;36mstack\u001b[0;34m(*args, **kwargs)\u001b[0m\n",
      "\u001b[0;32m/usr/local/anaconda3/lib/python3.8/site-packages/numpy/core/shape_base.py\u001b[0m in \u001b[0;36mstack\u001b[0;34m(arrays, axis, out)\u001b[0m\n\u001b[1;32m    421\u001b[0m     \u001b[0marrays\u001b[0m \u001b[0;34m=\u001b[0m \u001b[0;34m[\u001b[0m\u001b[0masanyarray\u001b[0m\u001b[0;34m(\u001b[0m\u001b[0marr\u001b[0m\u001b[0;34m)\u001b[0m \u001b[0;32mfor\u001b[0m \u001b[0marr\u001b[0m \u001b[0;32min\u001b[0m \u001b[0marrays\u001b[0m\u001b[0;34m]\u001b[0m\u001b[0;34m\u001b[0m\u001b[0;34m\u001b[0m\u001b[0m\n\u001b[1;32m    422\u001b[0m     \u001b[0;32mif\u001b[0m \u001b[0;32mnot\u001b[0m \u001b[0marrays\u001b[0m\u001b[0;34m:\u001b[0m\u001b[0;34m\u001b[0m\u001b[0;34m\u001b[0m\u001b[0m\n\u001b[0;32m--> 423\u001b[0;31m         \u001b[0;32mraise\u001b[0m \u001b[0mValueError\u001b[0m\u001b[0;34m(\u001b[0m\u001b[0;34m'need at least one array to stack'\u001b[0m\u001b[0;34m)\u001b[0m\u001b[0;34m\u001b[0m\u001b[0;34m\u001b[0m\u001b[0m\n\u001b[0m\u001b[1;32m    424\u001b[0m \u001b[0;34m\u001b[0m\u001b[0m\n\u001b[1;32m    425\u001b[0m     \u001b[0mshapes\u001b[0m \u001b[0;34m=\u001b[0m \u001b[0;34m{\u001b[0m\u001b[0marr\u001b[0m\u001b[0;34m.\u001b[0m\u001b[0mshape\u001b[0m \u001b[0;32mfor\u001b[0m \u001b[0marr\u001b[0m \u001b[0;32min\u001b[0m \u001b[0marrays\u001b[0m\u001b[0;34m}\u001b[0m\u001b[0;34m\u001b[0m\u001b[0;34m\u001b[0m\u001b[0m\n",
      "\u001b[0;31mValueError\u001b[0m: need at least one array to stack"
     ]
    }
   ],
   "source": [
    "accs = run_single_time_window('N', 'SR', -0.2, 0.2, 2)"
   ]
  },
  {
   "cell_type": "code",
   "execution_count": 10,
   "metadata": {},
   "outputs": [
    {
     "data": {
      "image/png": "[encoded data removed]",
      "text/plain": [
       "<Figure size 432x288 with 2 Axes>"
      ]
     },
     "metadata": {
      "needs_background": "light"
     },
     "output_type": "display_data"
    }
   ],
   "source": [
    "accs = run_single_time_window('L', 'SR', -1, 2, 2)"
   ]
  },
  {
   "cell_type": "code",
   "execution_count": 71,
   "metadata": {},
   "outputs": [
    {
     "data": {
      "image/png": "[encoded data removed]",
      "text/plain": [
       "<Figure size 432x288 with 2 Axes>"
      ]
     },
     "metadata": {
      "needs_background": "light"
     },
     "output_type": "display_data"
    }
   ],
   "source": [
    "accs = run_single_time_window('L', 'GO-ON', 0.2, 0.5, 2)"
   ]
  },
  {
   "cell_type": "code",
   "execution_count": 39,
   "metadata": {},
   "outputs": [
    {
     "data": {
      "image/png": "[encoded data removed]",
      "text/plain": [
       "<Figure size 432x288 with 2 Axes>"
      ]
     },
     "metadata": {
      "needs_background": "light"
     },
     "output_type": "display_data"
    }
   ],
   "source": [
    "accs = run_single_time_window('L', 'GO-ON', 0.4, 0.5, 3)"
   ]
  },
  {
   "cell_type": "code",
   "execution_count": 74,
   "metadata": {},
   "outputs": [],
   "source": [
    "monkey = 'L'\n",
    "event_want = 'GO-ON'\n",
    "offset = 0.2\n",
    "time_window = 0.5\n",
    "spatial_step = 3\n",
    "\n",
    "all_feat, labels = get_all_feat_and_labels(monkey, event_want, offset, time_window)\n",
    "i = 6\n",
    "j = 6\n",
    "elecs = get_electrodes(monkey, i, j, spatial_step)\n",
    "data = []\n",
    "for ch in elecs:\n",
    "    if ch == -1: continue\n",
    "    data.append(all_feat[ch]['st_feat'][:,None])\n",
    "if monkey == 'N':\n",
    "    for ch in elecs:\n",
    "        if ch == -1: continue\n",
    "        data.append(all_feat[ch]['lfp_feat'])\n",
    "data = np.concatenate(data, axis=1)\n",
    "train_num=int(0.8*data.shape[0])\n",
    "\n",
    "X_train, y_train, X_test, y_test = data[:train_num], labels[:train_num], data[train_num:], labels[train_num:]\n",
    "# Normalize data\n",
    "scaler = StandardScaler()  # normalization: zero mean, unit variance\n",
    "scaler.fit(X_train)  # scaling factor determined from the training set\n",
    "\n",
    "X_train = scaler.transform(X_train)\n",
    "X_test = scaler.transform(X_test)\n",
    "# clf = MLPClassifier(hidden_layer_sizes=(50), learning_rate_init=0.01, max_iter=500, verbose=0)\n",
    "clf = SVC(kernel='linear', C=1)\n",
    "clf.fit(X_train, y_train)\n",
    "\n",
    "accuracy = (clf.predict(X_test) == y_test).mean()"
   ]
  },
  {
   "cell_type": "code",
   "execution_count": 77,
   "metadata": {},
   "outputs": [
    {
     "data": {
      "text/plain": [
       "array(['PGHF', 'SGLF', 'PGHF', 'SGLF', 'SGLF', 'SGLF', 'PGHF', 'SGHF',\n",
       "       'PGHF', 'PGHF', 'SGHF', 'PGLF', 'PGHF', 'PGHF', 'SGLF', 'SGHF',\n",
       "       'PGHF', 'PGHF', 'SGLF', 'SGHF', 'PGHF', 'SGLF', 'SGHF', 'PGLF',\n",
       "       'SGLF', 'SGHF', 'PGLF', 'PGHF', 'SGLF', 'PGHF', 'PGHF', 'SGLF',\n",
       "       'SGHF', 'SGLF', 'SGHF', 'PGLF', 'SGHF', 'SGLF', 'PGHF', 'SGLF',\n",
       "       'SGHF', 'SGHF', 'PGHF', 'PGLF', 'SGLF', 'PGHF', 'SGHF', 'SGHF',\n",
       "       'SGHF', 'SGLF', 'SGHF', 'SGHF', 'SGLF', 'PGLF', 'SGHF', 'SGHF',\n",
       "       'SGHF', 'PGHF', 'PGHF', 'PGLF', 'SGLF', 'SGLF', 'SGHF', 'PGLF',\n",
       "       'PGLF', 'PGLF', 'SGLF', 'PGLF', 'PGLF', 'SGHF', 'SGHF', 'SGHF',\n",
       "       'PGLF', 'SGLF', 'SGLF', 'SGLF', 'SGLF', 'SGHF', 'PGLF', 'PGLF',\n",
       "       'PGLF', 'SGLF', 'SGHF', 'PGHF', 'SGLF', 'PGHF', 'PGHF', 'PGHF',\n",
       "       'SGLF', 'SGLF', 'SGLF', 'PGLF', 'PGLF', 'PGHF', 'PGHF', 'SGHF',\n",
       "       'SGHF', 'PGLF', 'PGHF', 'PGHF', 'SGLF', 'SGHF', 'SGHF', 'PGHF',\n",
       "       'PGLF', 'SGLF', 'PGHF', 'SGHF', 'SGLF', 'SGHF', 'PGLF', 'SGLF',\n",
       "       'PGHF', 'PGLF', 'PGLF', 'PGHF', 'SGHF', 'SGLF', 'PGHF', 'PGLF',\n",
       "       'SGLF', 'SGLF', 'PGHF', 'PGLF', 'PGLF', 'SGLF', 'PGLF', 'PGLF',\n",
       "       'PGLF', 'SGHF', 'SGLF', 'PGLF', 'PGLF', 'SGHF', 'SGHF', 'SGLF',\n",
       "       'SGLF', 'SGLF', 'SGLF', 'PGLF', 'PGLF', 'PGHF', 'SGLF', 'SGLF',\n",
       "       'PGLF', 'PGHF', 'SGLF'], dtype='<U4')"
      ]
     },
     "execution_count": 77,
     "metadata": {},
     "output_type": "execute_result"
    }
   ],
   "source": [
    "# accuracy\n",
    "# data[train_num:], labels[train_num:]\n",
    "labels"
   ]
  },
  {
   "cell_type": "code",
   "execution_count": 4,
   "metadata": {},
   "outputs": [
    {
     "data": {
      "text/plain": [
       "[50, 15, 17, 54, 19, 13, 21, 25, 23]"
      ]
     },
     "execution_count": 4,
     "metadata": {},
     "output_type": "execute_result"
    }
   ],
   "source": [
    "elecs"
   ]
  },
  {
   "cell_type": "code",
   "execution_count": 75,
   "metadata": {},
   "outputs": [
    {
     "data": {
      "text/plain": [
       "<sklearn.metrics._plot.confusion_matrix.ConfusionMatrixDisplay at 0x7f126e54c040>"
      ]
     },
     "execution_count": 75,
     "metadata": {},
     "output_type": "execute_result"
    },
    {
     "data": {
      "image/png": "[encoded data removed]",
      "text/plain": [
       "<Figure size 432x288 with 2 Axes>"
      ]
     },
     "metadata": {
      "needs_background": "light"
     },
     "output_type": "display_data"
    }
   ],
   "source": [
    "from sklearn.metrics import plot_confusion_matrix\n",
    "plot_confusion_matrix(clf, X_test, y_test)"
   ]
  }
 ],
 "metadata": {
  "kernelspec": {
   "display_name": "Python 3",
   "language": "python",
   "name": "python3"
  },
  "language_info": {
   "codemirror_mode": {
    "name": "ipython",
    "version": 3
   },
   "file_extension": ".py",
   "mimetype": "text/x-python",
   "name": "python",
   "nbconvert_exporter": "python",
   "pygments_lexer": "ipython3",
   "version": "3.8.8"
  }
 },
 "nbformat": 4,
 "nbformat_minor": 4
}
