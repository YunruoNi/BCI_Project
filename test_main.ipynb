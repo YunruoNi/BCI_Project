{
 "cells": [
  {
   "cell_type": "code",
   "execution_count": 1,
   "metadata": {},
   "outputs": [],
   "source": [
    "from util import *\n",
    "from sklearn.svm import SVC\n",
    "from sklearn.neural_network import MLPClassifier\n",
    "from sklearn.preprocessing import StandardScaler"
   ]
  },
  {
   "cell_type": "code",
   "execution_count": 26,
   "metadata": {
    "collapsed": true,
    "jupyter": {
     "outputs_hidden": true
    },
    "tags": []
   },
   "outputs": [
    {
     "name": "stdout",
     "output_type": "stream",
     "text": [
      "The spatial window is 1 1; The accuracy is0.25\n",
      "The spatial window is 1 2; The accuracy is0.21875\n",
      "The spatial window is 1 3; The accuracy is0.25\n",
      "The spatial window is 1 4; The accuracy is0.3125\n",
      "The spatial window is 1 5; The accuracy is0.34375\n",
      "The spatial window is 1 6; The accuracy is0.375\n",
      "The spatial window is 1 7; The accuracy is0.34375\n",
      "The spatial window is 1 8; The accuracy is0.34375\n",
      "The spatial window is 2 1; The accuracy is0.15625\n",
      "The spatial window is 2 2; The accuracy is0.3125\n",
      "The spatial window is 2 3; The accuracy is0.0625\n",
      "The spatial window is 2 4; The accuracy is0.28125\n",
      "The spatial window is 2 5; The accuracy is0.21875\n",
      "The spatial window is 2 6; The accuracy is0.3125\n",
      "The spatial window is 2 7; The accuracy is0.4375\n",
      "The spatial window is 2 8; The accuracy is0.5\n",
      "The spatial window is 3 1; The accuracy is0.34375\n",
      "The spatial window is 3 2; The accuracy is0.375\n",
      "The spatial window is 3 3; The accuracy is0.1875\n",
      "The spatial window is 3 4; The accuracy is0.15625\n",
      "The spatial window is 3 5; The accuracy is0.3125\n",
      "The spatial window is 3 6; The accuracy is0.25\n",
      "The spatial window is 3 7; The accuracy is0.375\n",
      "The spatial window is 3 8; The accuracy is0.34375\n",
      "The spatial window is 4 1; The accuracy is0.375\n",
      "The spatial window is 4 2; The accuracy is0.3125\n",
      "The spatial window is 4 3; The accuracy is0.40625\n",
      "The spatial window is 4 4; The accuracy is0.21875\n",
      "The spatial window is 4 5; The accuracy is0.375\n",
      "The spatial window is 4 6; The accuracy is0.25\n",
      "The spatial window is 4 7; The accuracy is0.5\n",
      "The spatial window is 4 8; The accuracy is0.375\n",
      "The spatial window is 5 1; The accuracy is0.375\n",
      "The spatial window is 5 2; The accuracy is0.40625\n",
      "The spatial window is 5 3; The accuracy is0.4375\n",
      "The spatial window is 5 4; The accuracy is0.21875\n",
      "The spatial window is 5 5; The accuracy is0.34375\n",
      "The spatial window is 5 6; The accuracy is0.25\n",
      "The spatial window is 5 7; The accuracy is0.46875\n",
      "The spatial window is 5 8; The accuracy is0.34375\n",
      "The spatial window is 6 1; The accuracy is0.46875\n",
      "The spatial window is 6 2; The accuracy is0.34375\n",
      "The spatial window is 6 3; The accuracy is0.4375\n",
      "The spatial window is 6 4; The accuracy is0.28125\n",
      "The spatial window is 6 5; The accuracy is0.40625\n",
      "The spatial window is 6 6; The accuracy is0.375\n",
      "The spatial window is 6 7; The accuracy is0.46875\n",
      "The spatial window is 6 8; The accuracy is0.46875\n",
      "The spatial window is 7 1; The accuracy is0.53125\n",
      "The spatial window is 7 2; The accuracy is0.53125\n",
      "The spatial window is 7 3; The accuracy is0.5625\n",
      "The spatial window is 7 4; The accuracy is0.4375\n",
      "The spatial window is 7 5; The accuracy is0.5625\n",
      "The spatial window is 7 6; The accuracy is0.34375\n",
      "The spatial window is 7 7; The accuracy is0.375\n",
      "The spatial window is 7 8; The accuracy is0.4375\n",
      "The spatial window is 8 1; The accuracy is0.5\n",
      "The spatial window is 8 2; The accuracy is0.46875\n",
      "The spatial window is 8 3; The accuracy is0.625\n",
      "The spatial window is 8 4; The accuracy is0.59375\n",
      "The spatial window is 8 5; The accuracy is0.625\n",
      "The spatial window is 8 6; The accuracy is0.71875\n",
      "The spatial window is 8 7; The accuracy is0.53125\n",
      "The spatial window is 8 8; The accuracy is0.46875\n"
     ]
    }
   ],
   "source": [
    "spatial_step=3\n",
    "monkey='N'\n",
    "all_feat, labels = get_all_feat_and_labels(monkey, 'GO-ON', 0.2, 0.5)\n",
    "\n",
    "accs = np.zeros((8,8))\n",
    "\n",
    "for i in range (1, 10-spatial_step+2):\n",
    "    for j in range (1, 10-spatial_step+2): \n",
    "        elecs = get_electrodes(monkey, i, j, spatial_step)\n",
    "        data = []\n",
    "        for ch in elecs:\n",
    "            if ch == -1: continue\n",
    "            data.append(all_feat[ch]['st_feat'][:,None])\n",
    "#         if monkey == 'N':\n",
    "#             for ch in elecs:\n",
    "#                 if ch == -1: continue\n",
    "#                 data.append(all_feat[ch]['lfp_feat'])\n",
    "        data = np.concatenate(data, axis=1)\n",
    "        train_num=int(0.8*data.shape[0])\n",
    "\n",
    "        X_train, y_train, X_test, y_test = data[:train_num], labels[:train_num], data[train_num:], labels[train_num:]\n",
    "        # Normalize data\n",
    "        scaler = StandardScaler()  # normalization: zero mean, unit variance\n",
    "        scaler.fit(X_train)  # scaling factor determined from the training set\n",
    "\n",
    "        X_train = scaler.transform(X_train)\n",
    "        X_test = scaler.transform(X_test)\n",
    "        # clf = MLPClassifier(hidden_layer_sizes=(50), learning_rate_init=0.01, max_iter=500, verbose=0)\n",
    "        clf = SVC(kernel='linear', C=1)\n",
    "        clf.fit(X_train, y_train)\n",
    "\n",
    "        accuracy = (clf.predict(X_test) == y_test).mean()\n",
    "        print('The spatial window is '+str(i)+\" \"+str(j)+\"; The accuracy is\"+str(accuracy))\n",
    "        accs[i-1,j-1] = accuracy"
   ]
  },
  {
   "cell_type": "code",
   "execution_count": 13,
   "metadata": {},
   "outputs": [
    {
     "data": {
      "text/plain": [
       "(147, 7)"
      ]
     },
     "execution_count": 13,
     "metadata": {},
     "output_type": "execute_result"
    }
   ],
   "source": [
    "data.shape"
   ]
  },
  {
   "cell_type": "code",
   "execution_count": 22,
   "metadata": {},
   "outputs": [
    {
     "data": {
      "text/plain": [
       "array([[0.7       , 0.66666667, 0.56666667, 0.6       , 0.46666667,\n",
       "        0.53333333, 0.46666667, 0.53333333],\n",
       "       [0.46666667, 0.56666667, 0.46666667, 0.6       , 0.5       ,\n",
       "        0.66666667, 0.63333333, 0.73333333],\n",
       "       [0.3       , 0.53333333, 0.46666667, 0.36666667, 0.4       ,\n",
       "        0.56666667, 0.63333333, 0.66666667],\n",
       "       [0.4       , 0.5       , 0.66666667, 0.5       , 0.5       ,\n",
       "        0.63333333, 0.46666667, 0.7       ],\n",
       "       [0.43333333, 0.5       , 0.76666667, 0.8       , 0.83333333,\n",
       "        0.73333333, 0.63333333, 0.5       ],\n",
       "       [0.63333333, 0.6       , 0.86666667, 0.86666667, 0.83333333,\n",
       "        0.83333333, 0.63333333, 0.46666667],\n",
       "       [0.43333333, 0.5       , 0.76666667, 0.83333333, 0.83333333,\n",
       "        0.7       , 0.73333333, 0.8       ],\n",
       "       [0.63333333, 0.63333333, 0.56666667, 0.63333333, 0.7       ,\n",
       "        0.8       , 0.7       , 0.56666667]])"
      ]
     },
     "execution_count": 22,
     "metadata": {},
     "output_type": "execute_result"
    }
   ],
   "source": [
    "accs"
   ]
  },
  {
   "cell_type": "code",
   "execution_count": 25,
   "metadata": {},
   "outputs": [
    {
     "data": {
      "text/plain": [
       "Text(0.5, 1.0, 'Time = T5')"
      ]
     },
     "execution_count": 25,
     "metadata": {},
     "output_type": "execute_result"
    },
    {
     "data": {
      "image/png": "[encoded data removed]",
      "text/plain": [
       "<Figure size 432x288 with 2 Axes>"
      ]
     },
     "metadata": {
      "needs_background": "light"
     },
     "output_type": "display_data"
    }
   ],
   "source": [
    "import matplotlib.pyplot as plt\n",
    "\n",
    "import numpy as np\n",
    "\n",
    "# Just some example data (random)\n",
    "\n",
    "\n",
    "rows,cols = accs.shape\n",
    "\n",
    "plt.imshow(accs, interpolation='nearest', \n",
    "                 extent=[0.5, 0.5+cols, 0.5, 0.5+rows],\n",
    "                 cmap='bwr', vmin=0.25, vmax=1)\n",
    "plt.colorbar()\n",
    "plt.axis('off')\n",
    "plt.title('Time = T5')"
   ]
  },
  {
   "cell_type": "code",
   "execution_count": 27,
   "metadata": {},
   "outputs": [
    {
     "data": {
      "text/plain": [
       "Text(0.5, 1.0, 'Time = T5')"
      ]
     },
     "execution_count": 27,
     "metadata": {},
     "output_type": "execute_result"
    },
    {
     "data": {
      "image/png": "[encoded data removed]",
      "text/plain": [
       "<Figure size 432x288 with 2 Axes>"
      ]
     },
     "metadata": {
      "needs_background": "light"
     },
     "output_type": "display_data"
    }
   ],
   "source": [
    "import matplotlib.pyplot as plt\n",
    "\n",
    "import numpy as np\n",
    "\n",
    "# Just some example data (random)\n",
    "\n",
    "\n",
    "rows,cols = accs.shape\n",
    "\n",
    "plt.imshow(accs, interpolation='nearest', \n",
    "                 extent=[0.5, 0.5+cols, 0.5, 0.5+rows],\n",
    "                 cmap='bwr', vmin=0.25, vmax=1)\n",
    "plt.colorbar()\n",
    "plt.axis('off')\n",
    "plt.title('Time = T5')"
   ]
  }
 ],
 "metadata": {
  "kernelspec": {
   "display_name": "Python 3",
   "language": "python",
   "name": "python3"
  },
  "language_info": {
   "codemirror_mode": {
    "name": "ipython",
    "version": 3
   },
   "file_extension": ".py",
   "mimetype": "text/x-python",
   "name": "python",
   "nbconvert_exporter": "python",
   "pygments_lexer": "ipython3",
   "version": "3.8.8"
  }
 },
 "nbformat": 4,
 "nbformat_minor": 4
}
