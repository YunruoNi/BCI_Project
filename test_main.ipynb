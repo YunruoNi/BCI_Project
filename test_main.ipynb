{
 "cells": [
  {
   "cell_type": "code",
   "execution_count": 42,
   "metadata": {},
   "outputs": [],
   "source": [
    "from util import *\n",
    "from sklearn.svm import SVC\n",
    "from sklearn.neural_network import MLPClassifier\n",
    "from sklearn.preprocessing import StandardScaler\n",
    "import pandas as pd"
   ]
  },
  {
   "cell_type": "code",
   "execution_count": 45,
   "metadata": {},
   "outputs": [],
   "source": [
    "def run_single_time_window(monkey, spatial_step):\n",
    "    all_feat, labels = get_all_feat_and_labels(monkey, 'GO-ON', 0.2, 0.5)\n",
    "    for i in range (1, 10-spatial_step+2):\n",
    "        for j in range (1, 10-spatial_step+2): \n",
    "            elecs = get_electrodes(monkey, i, j, spatial_step)\n",
    "            data = []\n",
    "            for ch in elecs:\n",
    "                if ch == -1: continue\n",
    "                data.append(all_feat[ch]['st_feat'][:,None])\n",
    "            if monkey == 'N':\n",
    "                for ch in elecs:\n",
    "                    if ch == -1: continue\n",
    "                    data.append(all_feat[ch]['lfp_feat'])\n",
    "            data = np.concatenate(data, axis=1)\n",
    "            train_num=int(0.8*data.shape[0])\n",
    "\n",
    "            X_train, y_train, X_test, y_test = data[:train_num], labels[:train_num], data[train_num:], labels[train_num:]\n",
    "            # Normalize data\n",
    "            scaler = StandardScaler()  # normalization: zero mean, unit variance\n",
    "            scaler.fit(X_train)  # scaling factor determined from the training set\n",
    "\n",
    "            X_train = scaler.transform(X_train)\n",
    "            X_test = scaler.transform(X_test)\n",
    "            # clf = MLPClassifier(hidden_layer_sizes=(50), learning_rate_init=0.01, max_iter=500, verbose=0)\n",
    "            clf = SVC(kernel='linear', C=1)\n",
    "            clf.fit(X_train, y_train)\n",
    "\n",
    "            accuracy = (clf.predict(X_test) == y_test).mean()\n",
    "   \n",
    "\n",
    "            print('The spatial window is '+str(i)+\" \"+str(j)+\"; The accuracy is\"+str(accuracy))\n",
    "            \n"
   ]
  },
  {
   "cell_type": "code",
   "execution_count": 46,
   "metadata": {},
   "outputs": [
    {
     "name": "stdout",
     "output_type": "stream",
     "text": [
      "The spatial window is 1 1; The accuracy is0.25\n",
      "The spatial window is 1 2; The accuracy is0.21875\n",
      "The spatial window is 1 3; The accuracy is0.1875\n",
      "The spatial window is 1 4; The accuracy is0.34375\n",
      "The spatial window is 1 5; The accuracy is0.28125\n",
      "The spatial window is 1 6; The accuracy is0.25\n",
      "The spatial window is 1 7; The accuracy is0.28125\n",
      "The spatial window is 1 8; The accuracy is0.25\n",
      "The spatial window is 2 1; The accuracy is0.21875\n",
      "The spatial window is 2 2; The accuracy is0.25\n",
      "The spatial window is 2 3; The accuracy is0.34375\n",
      "The spatial window is 2 4; The accuracy is0.28125\n",
      "The spatial window is 2 5; The accuracy is0.15625\n",
      "The spatial window is 2 6; The accuracy is0.28125\n",
      "The spatial window is 2 7; The accuracy is0.28125\n",
      "The spatial window is 2 8; The accuracy is0.25\n",
      "The spatial window is 3 1; The accuracy is0.1875\n",
      "The spatial window is 3 2; The accuracy is0.34375\n",
      "The spatial window is 3 3; The accuracy is0.375\n",
      "The spatial window is 3 4; The accuracy is0.40625\n",
      "The spatial window is 3 5; The accuracy is0.21875\n",
      "The spatial window is 3 6; The accuracy is0.25\n",
      "The spatial window is 3 7; The accuracy is0.375\n",
      "The spatial window is 3 8; The accuracy is0.1875\n",
      "The spatial window is 4 1; The accuracy is0.375\n",
      "The spatial window is 4 2; The accuracy is0.21875\n",
      "The spatial window is 4 3; The accuracy is0.375\n",
      "The spatial window is 4 4; The accuracy is0.25\n",
      "The spatial window is 4 5; The accuracy is0.25\n",
      "The spatial window is 4 6; The accuracy is0.25\n",
      "The spatial window is 4 7; The accuracy is0.21875\n",
      "The spatial window is 4 8; The accuracy is0.25\n",
      "The spatial window is 5 1; The accuracy is0.1875\n",
      "The spatial window is 5 2; The accuracy is0.28125\n",
      "The spatial window is 5 3; The accuracy is0.15625\n",
      "The spatial window is 5 4; The accuracy is0.21875\n",
      "The spatial window is 5 5; The accuracy is0.21875\n",
      "The spatial window is 5 6; The accuracy is0.25\n",
      "The spatial window is 5 7; The accuracy is0.4375\n",
      "The spatial window is 5 8; The accuracy is0.375\n",
      "The spatial window is 6 1; The accuracy is0.28125\n",
      "The spatial window is 6 2; The accuracy is0.21875\n",
      "The spatial window is 6 3; The accuracy is0.3125\n",
      "The spatial window is 6 4; The accuracy is0.28125\n",
      "The spatial window is 6 5; The accuracy is0.375\n",
      "The spatial window is 6 6; The accuracy is0.34375\n",
      "The spatial window is 6 7; The accuracy is0.40625\n",
      "The spatial window is 6 8; The accuracy is0.40625\n",
      "The spatial window is 7 1; The accuracy is0.34375\n",
      "The spatial window is 7 2; The accuracy is0.375\n",
      "The spatial window is 7 3; The accuracy is0.34375\n",
      "The spatial window is 7 4; The accuracy is0.375\n",
      "The spatial window is 7 5; The accuracy is0.40625\n",
      "The spatial window is 7 6; The accuracy is0.4375\n",
      "The spatial window is 7 7; The accuracy is0.40625\n",
      "The spatial window is 7 8; The accuracy is0.5\n",
      "The spatial window is 8 1; The accuracy is0.375\n",
      "The spatial window is 8 2; The accuracy is0.40625\n",
      "The spatial window is 8 3; The accuracy is0.46875\n",
      "The spatial window is 8 4; The accuracy is0.5\n",
      "The spatial window is 8 5; The accuracy is0.59375\n",
      "The spatial window is 8 6; The accuracy is0.53125\n",
      "The spatial window is 8 7; The accuracy is0.53125\n",
      "The spatial window is 8 8; The accuracy is0.375\n"
     ]
    }
   ],
   "source": [
    "run_single_time_window('L', 3)"
   ]
  },
  {
   "cell_type": "code",
   "execution_count": null,
   "metadata": {},
   "outputs": [],
   "source": []
  }
 ],
 "metadata": {
  "kernelspec": {
   "display_name": "Python 3",
   "language": "python",
   "name": "python3"
  },
  "language_info": {
   "codemirror_mode": {
    "name": "ipython",
    "version": 3
   },
   "file_extension": ".py",
   "mimetype": "text/x-python",
   "name": "python",
   "nbconvert_exporter": "python",
   "pygments_lexer": "ipython3",
   "version": "3.7.3"
  }
 },
 "nbformat": 4,
 "nbformat_minor": 2
}
