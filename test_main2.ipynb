{
 "cells": [
  {
   "cell_type": "code",
   "execution_count": 1,
   "metadata": {},
   "outputs": [],
   "source": [
    "# from util import *\n",
    "from sklearn.svm import SVC\n",
    "from sklearn.neural_network import MLPClassifier\n",
    "from sklearn.preprocessing import StandardScaler\n",
    "from sklearn.decomposition import PCA\n",
    "import pandas as pd\n",
    "import matplotlib.pyplot as plt\n",
    "from tqdm import tqdm"
   ]
  },
  {
   "cell_type": "code",
   "execution_count": 21,
   "metadata": {
    "tags": []
   },
   "outputs": [],
   "source": [
    "# import scipy.io as scio\n",
    "# from scipy import signal\n",
    "# import pandas as pd\n",
    "# import numpy as np\n",
    "# import matplotlib.pyplot as plt\n",
    "\n",
    "# data_path = \"/home/melodia/data/MEA_grasp/datasets_matlab/\"\n",
    "# electrodeID_path = '/home/melodia/proj/BCI_Project/metadata/' #path to git repo CSV files\n",
    "\n",
    "# all_data = {}\n",
    "# all_data['N'] = {i: scio.loadmat(data_path + 'i140703-001_raw-lfp-spikes_ch{}.mat'.format(str(i).zfill(2))) for i in range(1,97)}\n",
    "# all_data['L'] = {i: scio.loadmat(data_path + 'l101210-001_raw-lfp-spikes_ch{}.mat'.format(str(i).zfill(2))) for i in range(1,97)}\n",
    "\n",
    "def get_trial_time_and_label(monkey, event_want='GO-ON'):\n",
    "    assert monkey in ['L', 'N']\n",
    "    data = all_data[monkey][1]\n",
    "    event_data = data['block']['segments'][0][0][0][0][0][0]['events'][0][2][0][0]\n",
    "    assert event_data['name'] == 'TrialEvents'\n",
    "    assert event_data['times_units'] == '(1.0/30000 * s)'\n",
    "    samples = []\n",
    "    t_trial = None\n",
    "    lb_trial = None\n",
    "    valid_trial = True\n",
    "    valid_trial2 = False\n",
    "    for event, label, time in zip(event_data['an_trial_event_labels'],\n",
    "                            event_data['an_belongs_to_trialtype'],\n",
    "                            event_data['times'][0]):\n",
    "        if event.strip() == event_want.strip():\n",
    "            t_trial = time/30000\n",
    "            lb_trial = label\n",
    "        if 'ERROR' in event:\n",
    "            valid_trial = False\n",
    "        if 'RW-ON' in event:\n",
    "            valid_trial2 = True\n",
    "        if event[:5] in ['TS-ON', 'NONE ']:\n",
    "            if valid_trial and valid_trial2 and lb_trial:\n",
    "                samples.append((t_trial, lb_trial))\n",
    "            t_trial = None\n",
    "            lb_trial = None\n",
    "            valid_trial = True\n",
    "    return samples\n",
    "\n",
    "def get_electrodes(monkey_name, x, y, step):\n",
    "    chunk_channel_id=[]\n",
    "    assert monkey_name in ['L', 'N']\n",
    "    if monkey_name=='L':\n",
    "        df=pd.read_csv(electrodeID_path+'L.csv')\n",
    "    else:\n",
    "        df=pd.read_csv(electrodeID_path+'N.csv')   \n",
    "    monkey_electrodes_id=df['Id'].tolist()\n",
    "    start=(y-1)*10+x\n",
    "    for col in range (0, step):\n",
    "        for row in range (0,step):\n",
    "            chunk_channel_id.append(monkey_electrodes_id[start+10*row-1])\n",
    "        start=start+1   \n",
    "    return chunk_channel_id\n",
    "\n",
    "def get_st_feat(monkey, ch, start_time, window_time):\n",
    "    data = all_data[monkey][ch]\n",
    "    tmp = data['block']['segments'][0][0][0][0][0][0]['spiketrains'][0]\n",
    "    st = None\n",
    "    for i in range(tmp.shape[0]):\n",
    "        if tmp[i][0][0]['an_unit_id'].item() == 1: st = tmp[i][0][0]\n",
    "        elif tmp[i][0][0]['an_unit_id'].item() == 0 and st is None: st = tmp[i][0][0]\n",
    "    assert st['times_units'].item() == '(1.0/30000 * s)'\n",
    "    st['times'][0]\n",
    "    st_op = start_time*30000\n",
    "    st_ed = (start_time+window_time)*30000\n",
    "\n",
    "    frs = []\n",
    "    parts = 1\n",
    "    for i in range(parts):\n",
    "        sop = st_op + (st_ed-st_op)*i/parts\n",
    "        sed = st_op + (st_ed-st_op)*(i+1)/parts\n",
    "        frs.append(((st['times'][0] >= sop) & (st['times'][0] < sed)).sum())\n",
    "    # return [((st['times'][0] >= st_op) & (st['times'][0] < st_ed)).sum()]\n",
    "    return frs\n",
    "\n",
    "def get_lfp_feat(monkey, ch, start_time, window_time):\n",
    "    data = all_data[monkey][ch]\n",
    "    lfp_data = data['block']['segments'][0][0][0][0][0][0]['analogsignals'][0][0][0][0]#['file_origin'][0][-3:]\n",
    "    assert lfp_data['file_origin'][0][-3:] == 'ns2'\n",
    "    assert lfp_data['t_start_units'] == '(1.0/1000.0*s)'\n",
    "    start_time_shifted = start_time - lfp_data['t_start'].item()\n",
    "    \n",
    "    \n",
    "    psds = []\n",
    "    parts = 1\n",
    "    for i in range(parts):\n",
    "        op = int((start_time_shifted+window_time*i/parts)*1000)\n",
    "        ed = int((start_time_shifted+window_time*(i+1)/parts)*1000)\n",
    "        sig = lfp_data['signal'].squeeze()[op:ed]\n",
    "        freqs, psd = signal.welch(sig, 1000, nperseg=500)\n",
    "        psds.append(psd[:])\n",
    "    return np.concatenate(psds)\n",
    "\n",
    "def get_all_feat_and_labels(monkey, event_want, offset, window_time):\n",
    "    trials = get_trial_time_and_label(monkey, event_want)\n",
    "\n",
    "    all_feat = {}\n",
    "\n",
    "    for ch in range(1,97):\n",
    "        st_feat = []\n",
    "        if monkey == 'N': lfp_feat = []\n",
    "        for trial_t, label in trials:\n",
    "            start_time = trial_t + offset\n",
    "            st_feat.append(get_st_feat(monkey, ch, start_time, window_time))\n",
    "            if monkey == 'N': lfp_feat.append(get_lfp_feat(monkey, ch, start_time, window_time))\n",
    "        all_feat[ch] = {'st_feat': np.stack(st_feat)}\n",
    "        if monkey == 'N': all_feat[ch]['lfp_feat'] = np.stack(lfp_feat)\n",
    "    labels = np.stack([trial[1] for trial in trials])\n",
    "    \n",
    "    return all_feat, labels\n",
    "\n",
    "def plot_heatmap(accs, vmin=0.25, vmax=1):\n",
    "    cols, rows = accs.shape\n",
    "    plt.imshow(accs, interpolation='nearest', extent=[0.5, 0.5+cols, 0.5, 0.5+rows],\n",
    "                      cmap='bwr', vmin=vmin, vmax=vmax)\n",
    "    plt.colorbar()\n",
    "    plt.axis('off')\n",
    "    plt.show()\n",
    "    \n",
    "def plot_heatmap_df(df2, vmin=0.25, vmax=1):\n",
    "    accs = np.zeros((df2['X'].max(), df2['Y'].max()))\n",
    "    accs[df2['X']-1, df2['Y']-1] = df2['Accuracy']\n",
    "    plot_heatmap(accs, vmin=vmin, vmax=vmax)\n",
    "\n",
    "def run_single_time_window(monkey, event_want, offset, time_window, spatial_step=3):\n",
    "    spatial_xid=[]\n",
    "    spatial_yid=[]\n",
    "    spatial_steps = []\n",
    "    acc_ls=[]\n",
    "    time_id=[]\n",
    "    time_windows = []\n",
    "    event = []\n",
    "    all_feat, labels = get_all_feat_and_labels(monkey, event_want, offset, time_window)\n",
    "#     labels = labels.view('<U2')[::2]\n",
    "    for i in range (1, 10-spatial_step+2):\n",
    "        for j in range (1, 10-spatial_step+2): \n",
    "            elecs = get_electrodes(monkey, i, j, spatial_step)\n",
    "            data = []\n",
    "            for ch in elecs:\n",
    "                if ch == -1: continue\n",
    "                data.append(all_feat[ch]['st_feat'])\n",
    "            if monkey == 'N':\n",
    "                for ch in elecs:\n",
    "                    if ch == -1: continue\n",
    "                    data.append(all_feat[ch]['lfp_feat'])\n",
    "            data = np.concatenate(data, axis=1)\n",
    "            train_num=int(0.8*data.shape[0])\n",
    "\n",
    "            X_train, y_train, X_test, y_test = data[:train_num], labels[:train_num], data[train_num:], labels[train_num:]\n",
    "            # Normalize data\n",
    "            scaler = StandardScaler()  # normalization: zero mean, unit variance\n",
    "            scaler.fit(X_train)  # scaling factor determined from the training set\n",
    "\n",
    "            X_train = scaler.transform(X_train)\n",
    "            X_test = scaler.transform(X_test)\n",
    "            \n",
    "#             pca = PCA(n_components=100)\n",
    "#             pca.fit(X_train)\n",
    "#             X_train = pca.transform(X_train)\n",
    "#             X_test = pca.transform(X_test)\n",
    "            \n",
    "            \n",
    "#             clf = MLPClassifier(hidden_layer_sizes=(50), learning_rate_init=0.01, max_iter=500, verbose=0)\n",
    "            clf = SVC(kernel='sigmoid', C=1)\n",
    "            clf.fit(X_train, y_train)\n",
    "\n",
    "            accuracy = (clf.predict(X_test) == y_test).mean()\n",
    "            spatial_xid.append(i)\n",
    "            spatial_yid.append(j)\n",
    "            acc_ls.append(accuracy)\n",
    "            time_id.append(offset)\n",
    "            time_windows.append(time_window)\n",
    "            event.append(event_want)\n",
    "            spatial_steps.append(spatial_step)\n",
    "    return pd.DataFrame(list(zip(spatial_xid, spatial_yid, spatial_steps, event, time_id, time_windows, acc_ls)),\n",
    "                        columns = ['X', 'Y', 'Spatial Step', 'Event', 'Time Start', 'Time Span', 'Accuracy'])"
   ]
  },
  {
   "cell_type": "markdown",
   "metadata": {},
   "source": [
    "### 1\n",
    "[3] * [time start] * ["
   ]
  },
  {
   "cell_type": "code",
   "execution_count": 89,
   "metadata": {
    "tags": []
   },
   "outputs": [
    {
     "name": "stderr",
     "output_type": "stream",
     "text": [
      "100%|██████████| 8/8 [00:04<00:00,  1.80it/s]\n",
      "100%|██████████| 8/8 [00:04<00:00,  1.92it/s]\n",
      "100%|██████████| 8/8 [00:04<00:00,  1.92it/s]\n"
     ]
    }
   ],
   "source": [
    "# dfs = []\n",
    "for event in ['SR', 'OT', 'DO']:\n",
    "    for t in tqdm(range(0, 8)):\n",
    "        dfs.append(run_single_time_window('L', event, (t-3)/10, 0.2, 3))"
   ]
  },
  {
   "cell_type": "code",
   "execution_count": 90,
   "metadata": {
    "tags": []
   },
   "outputs": [],
   "source": [
    "df = pd.concat(dfs).reset_index()"
   ]
  },
  {
   "cell_type": "code",
   "execution_count": 116,
   "metadata": {},
   "outputs": [
    {
     "data": {
      "text/plain": [
       "162    0.500000\n",
       "163    0.366667\n",
       "164    0.533333\n",
       "165    0.466667\n",
       "166    0.300000\n",
       "         ...   \n",
       "238    0.466667\n",
       "239    0.566667\n",
       "240    0.433333\n",
       "241    0.333333\n",
       "242    0.300000\n",
       "Name: Accuracy, Length: 81, dtype: float64"
      ]
     },
     "execution_count": 116,
     "metadata": {},
     "output_type": "execute_result"
    }
   ],
   "source": [
    "# df.to_csv('L1.csv')\n",
    "df[\n",
    "    (df['Spatial Step'] == 2)\n",
    "   & (df['Event'] == 'SR')\n",
    "   & (df['Time Start'] == -0.2)\n",
    "]['Accuracy']#.mean()"
   ]
  },
  {
   "cell_type": "code",
   "execution_count": 88,
   "metadata": {},
   "outputs": [
    {
     "data": {
      "image/png": "[encoded data removed]",
      "text/plain": [
       "<Figure size 432x288 with 2 Axes>"
      ]
     },
     "metadata": {
      "needs_background": "light"
     },
     "output_type": "display_data"
    }
   ],
   "source": [
    "df2 = df[(df['Spatial Step']==2) & (df['Event']=='DO') & (df['Time Start']==0.3)]\n",
    "plot_heatmap_df(df2)"
   ]
  },
  {
   "cell_type": "code",
   "execution_count": 98,
   "metadata": {
    "tags": []
   },
   "outputs": [
    {
     "data": {
      "text/plain": [
       "<matplotlib.lines.Line2D at 0x7f01c4244490>"
      ]
     },
     "execution_count": 98,
     "metadata": {},
     "output_type": "execute_result"
    },
    {
     "data": {
      "image/png": "[encoded data removed]",
      "text/plain": [
       "<Figure size 432x288 with 1 Axes>"
      ]
     },
     "metadata": {
      "needs_background": "light"
     },
     "output_type": "display_data"
    }
   ],
   "source": [
    "plt.plot(df2['Time Stamp'], df2['Accuracy'])\n",
    "plt.axhline(0.5, linestyle='--', color='r')"
   ]
  },
  {
   "cell_type": "code",
   "execution_count": 5,
   "metadata": {},
   "outputs": [
    {
     "name": "stderr",
     "output_type": "stream",
     "text": [
      "/usr/local/anaconda3/lib/python3.8/site-packages/scipy/signal/spectral.py:1961: UserWarning: nperseg = 500 is greater than input length  = 200, using nperseg = 200\n",
      "  warnings.warn('nperseg = {0:d} is greater than input length '\n"
     ]
    }
   ],
   "source": [
    "all_feat, labels = get_all_feat_and_labels('N', 'SR', 0, 0.2)"
   ]
  },
  {
   "cell_type": "code",
   "execution_count": 6,
   "metadata": {
    "tags": []
   },
   "outputs": [
    {
     "data": {
      "text/plain": [
       "(153, 1010)"
      ]
     },
     "execution_count": 6,
     "metadata": {},
     "output_type": "execute_result"
    }
   ],
   "source": [
    "all_feat[2]['lfp_feat'].shape"
   ]
  },
  {
   "cell_type": "code",
   "execution_count": 20,
   "metadata": {},
   "outputs": [
    {
     "data": {
      "text/plain": [
       "array([ 0.25, 52.  ])"
      ]
     },
     "execution_count": 20,
     "metadata": {},
     "output_type": "execute_result"
    }
   ],
   "source": [
    "scaler = StandardScaler()\n",
    "scaler.fit([[1, 2], [0, -2], [1, 10], [0, -10]])\n",
    "scaler.var_"
   ]
  }
 ],
 "metadata": {
  "kernelspec": {
   "display_name": "Python 3",
   "language": "python",
   "name": "python3"
  },
  "language_info": {
   "codemirror_mode": {
    "name": "ipython",
    "version": 3
   },
   "file_extension": ".py",
   "mimetype": "text/x-python",
   "name": "python",
   "nbconvert_exporter": "python",
   "pygments_lexer": "ipython3",
   "version": "3.8.8"
  }
 },
 "nbformat": 4,
 "nbformat_minor": 4
}
